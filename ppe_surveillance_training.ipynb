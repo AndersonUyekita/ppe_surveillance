{
 "cells": [
  {
   "cell_type": "markdown",
   "id": "fa2247f8-5922-439a-9265-1ef154f8f530",
   "metadata": {},
   "source": [
    "# EPI + Face Recognition\n",
    "\n",
    "* `YOLO`: Irá detectar o uso do EPI\n",
    "* `face_recognition`: Identificará a pessoa"
   ]
  },
  {
   "cell_type": "code",
   "execution_count": null,
   "id": "d7fe0ffa-2c4c-4311-89cd-eeb71cfb1155",
   "metadata": {},
   "outputs": [],
   "source": []
  },
  {
   "cell_type": "code",
   "execution_count": null,
   "id": "58a8ef3a-be7a-4ad6-b7f5-5f95ed2c08b9",
   "metadata": {},
   "outputs": [],
   "source": []
  }
 ],
 "metadata": {
  "kernelspec": {
   "display_name": "Python 3 (ipykernel)",
   "language": "python",
   "name": "python3"
  },
  "language_info": {
   "codemirror_mode": {
    "name": "ipython",
    "version": 3
   },
   "file_extension": ".py",
   "mimetype": "text/x-python",
   "name": "python",
   "nbconvert_exporter": "python",
   "pygments_lexer": "ipython3",
   "version": "3.12.4"
  }
 },
 "nbformat": 4,
 "nbformat_minor": 5
}
